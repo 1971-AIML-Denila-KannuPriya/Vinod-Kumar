{
 "cells": [
  {
   "cell_type": "markdown",
   "metadata": {},
   "source": [
    "AI-Powered Sentiment Analysis and Entity Recognition for Customer Reviews"
   ]
  },
  {
   "cell_type": "code",
   "execution_count": 3,
   "metadata": {},
   "outputs": [],
   "source": [
    "#Import Required Libraries\n",
    "import os\n",
    "from azure.ai.textanalytics import TextAnalyticsClient\n",
    "from azure.core.credentials import AzureKeyCredential\n",
    "from azure.ai.translation.document import DocumentTranslationClient\n",
    "import pandas as pd\n",
    "import nltk\n",
    "from nltk.corpus import stopwords\n",
    "from nltk.tokenize import word_tokenize\n",
    "import re\n",
    "import matplotlib.pyplot as plt"
   ]
  },
  {
   "cell_type": "code",
   "execution_count": null,
   "metadata": {},
   "outputs": [],
   "source": [
    "#Azure cognitive services credentials here\n",
    "azure_key = 'TEXT_ANALYTICS_KEY'\n",
    "azure_endpoint = 'TEXT_ANALYTICS_ENDPOINT'\n",
    "translator_key = 'TRANSLATOR_API_KEY'\n",
    "translator_endpoint = 'TRANSLATOR_ENDPOINT'"
   ]
  },
  {
   "cell_type": "code",
   "execution_count": null,
   "metadata": {},
   "outputs": [],
   "source": [
    "# Authenticate with Azure Text Analytics API\n",
    "def authenticate_client():\n",
    "    ta_credential = AzureKeyCredential(azure_key)\n",
    "    text_analytics_client = TextAnalyticsClient(\n",
    "        endpoint=azure_endpoint,\n",
    "        credential=ta_credential)\n",
    "    return text_analytics_client\n",
    "\n",
    "text_analytics_client = authenticate_client()"
   ]
  },
  {
   "cell_type": "code",
   "execution_count": null,
   "metadata": {},
   "outputs": [],
   "source": [
    "#Data Preprocessing\n",
    "nltk.download('punkt')\n",
    "nltk.download('stopwords')\n",
    "\n",
    "def preprocess_text(text, language='en'):\n",
    "    text = text.lower()\n",
    "    text = re.sub(r'\\d+', '', text)\n",
    "    text = re.sub(r'[^\\w\\s]', '', text)\n",
    "    words = word_tokenize(text)\n",
    "    stop_words = set(stopwords.words('english'))\n",
    "    filtered_words = [word for word in words if word not in stop_words]\n",
    "    return ' '.join(filtered_words)\n",
    "review = \"This is an awesome product! Totally worth the price.\"\n",
    "cleaned_review = preprocess_text(review)\n",
    "print(cleaned_review)"
   ]
  },
  {
   "cell_type": "code",
   "execution_count": null,
   "metadata": {},
   "outputs": [],
   "source": [
    "#Language Translation\n",
    "import requests\n",
    "\n",
    "def translate_text(text, target_language='en'):\n",
    "    headers = {\n",
    "        'Ocp-Apim-Subscription-Key': translator_key,\n",
    "        'Ocp-Apim-Subscription-Region': 'your-region',\n",
    "        'Content-Type': 'application/json'\n",
    "    }\n",
    "    body = [{'text': text}]\n",
    "    translation_url = f\"{translator_endpoint}/translate?api-version=3.0&to={target_language}\"\n",
    "    response = requests.post(translation_url, headers=headers, json=body)\n",
    "    translation = response.json()[0]['translations'][0]['text']\n",
    "    return translation\n",
    "translated_review = translate_text(\"C'est un produit incroyable\", target_language='en')\n",
    "print(translated_review)"
   ]
  },
  {
   "cell_type": "code",
   "execution_count": null,
   "metadata": {},
   "outputs": [],
   "source": [
    "#Sentiment Analysis\n",
    "def sentiment_analysis(client, text):\n",
    "    documents = [text]\n",
    "    response = client.analyze_sentiment(documents=documents)[0]\n",
    "    return {\n",
    "        \"sentiment\": response.sentiment,\n",
    "        \"positive\": response.confidence_scores.positive,\n",
    "        \"neutral\": response.confidence_scores.neutral,\n",
    "        \"negative\": response.confidence_scores.negative\n",
    "    }\n",
    "sentiment_result = sentiment_analysis(text_analytics_client, cleaned_review)\n",
    "print(sentiment_result)"
   ]
  },
  {
   "cell_type": "code",
   "execution_count": null,
   "metadata": {},
   "outputs": [],
   "source": [
    "def entity_recognition(client, text):\n",
    "    response = client.recognize_entities(documents=[text])[0]\n",
    "    entities = [(entity.text, entity.category) for entity in response.entities]\n",
    "    return entities\n",
    "\n",
    "def key_phrase_extraction(client, text):\n",
    "    response = client.extract_key_phrases(documents=[text])[0]\n",
    "    return response.key_phrases\n",
    "\n",
    "entities = entity_recognition(text_analytics_client, cleaned_review)\n",
    "key_phrases = key_phrase_extraction(text_analytics_client, cleaned_review)\n",
    "\n",
    "print(\"Entities:\", entities)\n",
    "print(\"Key Phrases:\", key_phrases)"
   ]
  },
  {
   "cell_type": "code",
   "execution_count": null,
   "metadata": {},
   "outputs": [],
   "source": [
    "#Storing Data in Database\n",
    "import sqlite3\n",
    "\n",
    "conn = sqlite3.connect('reviews.db')\n",
    "c = conn.cursor()\n",
    "\n",
    "c.execute('''CREATE TABLE IF NOT EXISTS reviews\n",
    "             (review_text TEXT, sentiment TEXT, positive REAL, neutral REAL, negative REAL, entities TEXT, key_phrases TEXT)''')\n",
    "\n",
    "def insert_review(review, sentiment_result, entities, key_phrases):\n",
    "    c.execute(\"INSERT INTO reviews (review_text, sentiment, positive, neutral, negative, entities, key_phrases) VALUES (?, ?, ?, ?, ?, ?, ?)\",\n",
    "              (review, sentiment_result['sentiment'], sentiment_result['positive'], sentiment_result['neutral'], sentiment_result['negative'], str(entities), str(key_phrases)))\n",
    "    conn.commit()\n",
    "\n",
    "insert_review(cleaned_review, sentiment_result, entities, key_phrases)\n"
   ]
  },
  {
   "cell_type": "code",
   "execution_count": null,
   "metadata": {},
   "outputs": [],
   "source": [
    "#Visualization with Matplotlib\n",
    "def visualize_sentiment_distribution():\n",
    "    c.execute(\"SELECT sentiment, COUNT(*) FROM reviews GROUP BY sentiment\")\n",
    "    data = c.fetchall()\n",
    "    \n",
    "    sentiments = [row[0] for row in data]\n",
    "    counts = [row[1] for row in data]\n",
    "    \n",
    "    plt.bar(sentiments, counts, color=['green', 'yellow', 'red'])\n",
    "    plt.xlabel('Sentiment')\n",
    "    plt.ylabel('Number of Reviews')\n",
    "    plt.title('Sentiment Distribution')\n",
    "    plt.show()\n",
    "\n",
    "visualize_sentiment_distribution()"
   ]
  }
 ],
 "metadata": {
  "kernelspec": {
   "display_name": "Python 3",
   "language": "python",
   "name": "python3"
  },
  "language_info": {
   "codemirror_mode": {
    "name": "ipython",
    "version": 3
   },
   "file_extension": ".py",
   "mimetype": "text/x-python",
   "name": "python",
   "nbconvert_exporter": "python",
   "pygments_lexer": "ipython3",
   "version": "3.12.4"
  }
 },
 "nbformat": 4,
 "nbformat_minor": 2
}
