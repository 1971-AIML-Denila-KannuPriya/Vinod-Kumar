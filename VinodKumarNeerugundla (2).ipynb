{
 "cells": [
  {
   "cell_type": "code",
   "execution_count": 11,
   "id": "08cb5937-7a3c-4afa-bc48-97b44d2142c6",
   "metadata": {},
   "outputs": [
    {
     "name": "stdout",
     "output_type": "stream",
     "text": [
      "56\n"
     ]
    }
   ],
   "source": [
    "#second largest element\n",
    "l=[3,2,56,7,89,89,23]\n",
    "l=list(set(l))\n",
    "l.sort()\n",
    "print(l[-2])"
   ]
  },
  {
   "cell_type": "code",
   "execution_count": 5,
   "id": "99200466-faa2-4a30-a0cb-f09b96164c60",
   "metadata": {},
   "outputs": [
    {
     "name": "stdout",
     "output_type": "stream",
     "text": [
      "False\n"
     ]
    }
   ],
   "source": [
    "#prime number\n",
    "num=15\n",
    "l=[fa for fa in range(1,num+1) if num%fa==0]\n",
    "print(len(l)==2)"
   ]
  },
  {
   "cell_type": "code",
   "execution_count": 6,
   "id": "28471c81-bcf1-44b4-9950-ee20a99a5e56",
   "metadata": {},
   "outputs": [
    {
     "name": "stdout",
     "output_type": "stream",
     "text": [
      "aldnugureen ramuk doniv\n"
     ]
    }
   ],
   "source": [
    "#slicing reversing a string\n",
    "s=\"vinod kumar neerugundla\"\n",
    "print(s[::-1])"
   ]
  },
  {
   "cell_type": "code",
   "execution_count": 7,
   "id": "19e45f3b-1511-46c5-bd42-1673039603d8",
   "metadata": {},
   "outputs": [
    {
     "name": "stdout",
     "output_type": "stream",
     "text": [
      "aldnugureen ramuk doniv\n"
     ]
    }
   ],
   "source": [
    "#indexing reversing a string\n",
    "s=\"vinod kumar neerugundla\"\n",
    "s1=\"\"\n",
    "for ind in range(-1,-len(s)-1,-1):\n",
    "    s1+=s[ind]\n",
    "print(s1)\n",
    "    "
   ]
  },
  {
   "cell_type": "code",
   "execution_count": 14,
   "id": "d7ae5880-fea0-401e-826a-f20da2e45b34",
   "metadata": {},
   "outputs": [
    {
     "name": "stdout",
     "output_type": "stream",
     "text": [
      "[1, 2, 2, 3, 5, 6, 7, 8, 8, 9]\n"
     ]
    }
   ],
   "source": [
    "L1=[1,2,3,2,8]\n",
    "L2=[9,7,6,5,8]\n",
    "L1.extend(L2)\n",
    "L1.sort()\n",
    "print(L1)"
   ]
  },
  {
   "cell_type": "code",
   "execution_count": 16,
   "id": "d1ca6770-4814-4195-8c07-f3371d096592",
   "metadata": {},
   "outputs": [
    {
     "name": "stdout",
     "output_type": "stream",
     "text": [
      "120\n"
     ]
    }
   ],
   "source": [
    "#Factorial\n",
    "def factorial(n):\n",
    "    if n==0:\n",
    "        return 1\n",
    "    return n*factorial(n-1)\n",
    "print(factorial(5))"
   ]
  },
  {
   "cell_type": "code",
   "execution_count": 17,
   "id": "883c7d41-f97a-4f08-8eb2-76f7bc734c7e",
   "metadata": {},
   "outputs": [
    {
     "name": "stdout",
     "output_type": "stream",
     "text": [
      "True\n"
     ]
    }
   ],
   "source": [
    "#palindrome\n",
    "S='MALAYALAM'\n",
    "print(S==S[::-1])"
   ]
  },
  {
   "cell_type": "code",
   "execution_count": 23,
   "id": "f70cfeb0-83bd-47ce-bb56-cf776f454c2c",
   "metadata": {},
   "outputs": [
    {
     "name": "stdout",
     "output_type": "stream",
     "text": [
      "1:2\n",
      "2:3\n",
      "3:3\n",
      "4:2\n",
      "5:2\n",
      "6:1\n"
     ]
    }
   ],
   "source": [
    "#frequency of the elements\n",
    "L=[1,2,3,4,5,6,1,2,3,2,3,4,5]\n",
    "L2=list(set(L))\n",
    "\n",
    "for el in L2:\n",
    "    \n",
    "    print(f\"{el}:{str(L.count(el))}\")"
   ]
  },
  {
   "cell_type": "code",
   "execution_count": 104,
   "id": "674ddc09-a256-4445-bccd-cb8c62e1a74a",
   "metadata": {},
   "outputs": [
    {
     "name": "stdout",
     "output_type": "stream",
     "text": [
      "0\n",
      "1\n",
      "1\n",
      "2\n",
      "3\n",
      "5\n",
      "8\n",
      "13\n",
      "21\n",
      "34\n",
      "limit reached\n"
     ]
    }
   ],
   "source": [
    "#fibinocci\n",
    "def fibinocci(first,second):\n",
    "    for _ in range(10):\n",
    "        yield first\n",
    "        first,second=second,first+second\n",
    "Value=fibinocci(0,1)\n",
    "try:\n",
    "    while True:\n",
    "        print(next(Value))\n",
    "except:\n",
    "    print(\"limit reached\")"
   ]
  },
  {
   "cell_type": "code",
   "execution_count": 28,
   "id": "b241be05-17f7-471c-8758-6b60721477e5",
   "metadata": {},
   "outputs": [
    {
     "name": "stdout",
     "output_type": "stream",
     "text": [
      "[2, 3, 4, 5, 6, 11]\n"
     ]
    }
   ],
   "source": [
    "#remove duplicates from a list\n",
    "l=[11,2,3,4,3,5,6,4,6,4]\n",
    "print(list(set(l)))"
   ]
  },
  {
   "cell_type": "code",
   "execution_count": 40,
   "id": "df35599c-9a89-40cc-bc88-214152660017",
   "metadata": {},
   "outputs": [
    {
     "name": "stdout",
     "output_type": "stream",
     "text": [
      "True\n"
     ]
    }
   ],
   "source": [
    "#anagram\n",
    "S1=\"A gentleman\"\n",
    "S2=\"elegant man\"\n",
    "print(str(sorted(S1)).lower()==str(sorted(S2)).lower())"
   ]
  },
  {
   "cell_type": "code",
   "execution_count": 55,
   "id": "cad8b9b3-94df-4308-b70b-637cd0734c33",
   "metadata": {},
   "outputs": [
    {
     "name": "stdout",
     "output_type": "stream",
     "text": [
      "1111\n"
     ]
    }
   ],
   "source": [
    "#decimal to binary\n",
    "num=15\n",
    "bin=''\n",
    "\n",
    "while num!=0:\n",
    "    rem=num%2\n",
    "    bin+=str(rem)\n",
    "    num//=2\n",
    "print(int(bin[::-1]))"
   ]
  },
  {
   "cell_type": "code",
   "execution_count": 62,
   "id": "d4eaafa3-e411-43b5-b3c4-65b33780cf29",
   "metadata": {},
   "outputs": [
    {
     "name": "stdout",
     "output_type": "stream",
     "text": [
      "[1, 8]\n",
      "[4, 5]\n",
      "[5, 4]\n",
      "[2, 7]\n"
     ]
    }
   ],
   "source": [
    "#find pairs in an array\n",
    "l=[1,4,5,6,8,2,7]\n",
    "Sum=9\n",
    "for j in range(len(l)-1):\n",
    "    for i in range(1,len(l)):\n",
    "        if l[j]+l[i]==Sum:\n",
    "            print([l[j],l[i]])"
   ]
  },
  {
   "cell_type": "code",
   "execution_count": 44,
   "id": "d1da3d26-c8d9-407a-a9c8-375cfcc5a064",
   "metadata": {},
   "outputs": [
    {
     "name": "stdout",
     "output_type": "stream",
     "text": [
      "vowel_count=10\n",
      "consonant_count=18\n"
     ]
    }
   ],
   "source": [
    "#vowels and consonants\n",
    "s=\"they contain the same characters\"\n",
    "vowel_count=0\n",
    "consonant_count=0\n",
    "s=str(''.join(s.split()))\n",
    "for ch in s:\n",
    "    if ch in \"aeiou\":\n",
    "        vowel_count+=1\n",
    "    else:\n",
    "        consonant_count+=1\n",
    "print(f\"vowel_count={vowel_count}\")\n",
    "print(f\"consonant_count={consonant_count}\")\n",
    "        "
   ]
  },
  {
   "cell_type": "code",
   "execution_count": 50,
   "id": "fb606bfb-6b53-4fb9-b7da-a3bf8230e949",
   "metadata": {},
   "outputs": [
    {
     "name": "stdout",
     "output_type": "stream",
     "text": [
      "8\n"
     ]
    }
   ],
   "source": [
    "#Binary Search\n",
    "l=[1,2,4,5,6,7,8,9,23,24,45]\n",
    "user=23\n",
    "lowest=0\n",
    "highest=len(l)-1\n",
    "mid=highest+lowest//2\n",
    "for ind in range(len(l)):\n",
    "    if l[ind]<user:\n",
    "        highest=mid-1\n",
    "    elif l[ind]>user:\n",
    "        lowest=mid+1\n",
    "    elif l[ind]==user:\n",
    "        print(ind)\n",
    "        break\n",
    "else:\n",
    "    print(-1)\n"
   ]
  },
  {
   "cell_type": "code",
   "execution_count": 69,
   "id": "12e7acab-31bf-456c-9dc5-ba91abad0c04",
   "metadata": {},
   "outputs": [
    {
     "name": "stdout",
     "output_type": "stream",
     "text": [
      "[1, 3, 5, 4, 7, 9, 23]\n"
     ]
    }
   ],
   "source": [
    "#Check if a list is sorted\n",
    "l=[1,5,3,7,4,9,23]\n",
    "for ind in range(len(l)-1):\n",
    "    if l[ind]>l[ind+1]:\n",
    "        l[ind],l[ind+1]=l[ind+1],l[ind]\n",
    "print(l)"
   ]
  },
  {
   "cell_type": "code",
   "execution_count": 66,
   "id": "fa3db8bf-86f2-4071-b656-38ee9337ca0c",
   "metadata": {},
   "outputs": [
    {
     "name": "stdout",
     "output_type": "stream",
     "text": [
      "15\n"
     ]
    }
   ],
   "source": [
    "#Sum if digits in a number\n",
    "def SumDigits(num):\n",
    "    if num==0:\n",
    "        return 0\n",
    "    return num%10+SumDigits(num//10)\n",
    "print(SumDigits(12345))"
   ]
  },
  {
   "cell_type": "code",
   "execution_count": 70,
   "id": "41a7cae1-4fa6-4b23-858a-46dae622666b",
   "metadata": {},
   "outputs": [
    {
     "name": "stdout",
     "output_type": "stream",
     "text": [
      "[[1 4 7]\n",
      " [2 5 8]\n",
      " [3 6 9]]\n"
     ]
    }
   ],
   "source": [
    "#Transpose of matrix\n",
    "import numpy as np\n",
    "l=[[1,2,3],\n",
    "   [4,5,6],\n",
    "  [7,8,9]]\n",
    "print(np.transpose(l))\n"
   ]
  },
  {
   "cell_type": "code",
   "execution_count": 71,
   "id": "254166c8-b07d-4775-842b-bae1a41a5c8f",
   "metadata": {},
   "outputs": [
    {
     "name": "stdout",
     "output_type": "stream",
     "text": [
      "[1, 2, 4, 5]\n"
     ]
    }
   ],
   "source": [
    "#intersection of two list\n",
    "L1=[1,2,3,4,5]\n",
    "L2=[1,4,5,6,2]\n",
    "L3=[]\n",
    "for el in L1:\n",
    "    if el in L2:\n",
    "        L3.append(el)\n",
    "print(L3)\n"
   ]
  },
  {
   "cell_type": "code",
   "execution_count": 72,
   "id": "36e53b14-d26b-42e3-ac6e-a70b286f07c4",
   "metadata": {},
   "outputs": [
    {
     "name": "stdout",
     "output_type": "stream",
     "text": [
      "[1, 2, 4, 5]\n"
     ]
    }
   ],
   "source": [
    "#intersection of two list\n",
    "L1=[1,2,3,4,5]\n",
    "L2=[1,4,5,6,2]\n",
    "intersection=list(set(L1)&set(L2))\n",
    "print(intersection)"
   ]
  },
  {
   "cell_type": "code",
   "execution_count": 76,
   "id": "70eef89e-7f24-4e72-8480-d28a26a70b92",
   "metadata": {},
   "outputs": [
    {
     "name": "stdout",
     "output_type": "stream",
     "text": [
      "[('a', 'b', 'c'), ('a', 'c', 'b'), ('b', 'a', 'c'), ('b', 'c', 'a'), ('c', 'a', 'b'), ('c', 'b', 'a')]\n"
     ]
    }
   ],
   "source": [
    "#permutaions of String\n",
    "from itertools import permutations\n",
    "s='abc'\n",
    "print(list(permutations(s)))\n"
   ]
  },
  {
   "cell_type": "code",
   "execution_count": 103,
   "id": "10ad58fd-10d2-4f31-b7bf-b7a03af10155",
   "metadata": {},
   "outputs": [
    {
     "name": "stdout",
     "output_type": "stream",
     "text": [
      "6\n",
      "[4, -1, 2, 1]\n"
     ]
    }
   ],
   "source": [
    "#contiguous subarray\n",
    "l=[-2, 1, -3, 4, -1, 2, 1, -5]\n",
    "MaxSum=0\n",
    "L1=[]\n",
    "Sum=0\n",
    "l2=[]\n",
    "for ind in range(len(l)):\n",
    "    Sum=0\n",
    "    l2=[]\n",
    "    for ind1 in range(ind,len(l)):\n",
    "        l2.append(l[ind1])\n",
    "        Sum+=l[ind1]\n",
    "        if Sum>MaxSum:\n",
    "            MaxSum=Sum\n",
    "            L1=l2.copy()\n",
    "print(MaxSum)\n",
    "print(L1)\n",
    "\n",
    "        \n",
    "    "
   ]
  },
  {
   "cell_type": "code",
   "execution_count": null,
   "id": "0d3c0b16-4e49-4ded-8dea-d2af4a742548",
   "metadata": {},
   "outputs": [],
   "source": [
    "l=[[1,2,3],\n",
    "   [4,5,6],\n",
    "  [7,8,9]]\n"
   ]
  }
 ],
 "metadata": {
  "kernelspec": {
   "display_name": "Python 3 (ipykernel)",
   "language": "python",
   "name": "python3"
  },
  "language_info": {
   "codemirror_mode": {
    "name": "ipython",
    "version": 3
   },
   "file_extension": ".py",
   "mimetype": "text/x-python",
   "name": "python",
   "nbconvert_exporter": "python",
   "pygments_lexer": "ipython3",
   "version": "3.12.4"
  }
 },
 "nbformat": 4,
 "nbformat_minor": 5
}
